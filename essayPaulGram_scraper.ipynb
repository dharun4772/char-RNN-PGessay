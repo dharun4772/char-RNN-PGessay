{
  "cells": [
    {
      "cell_type": "code",
      "execution_count": 5,
      "metadata": {
        "id": "lB0QGjm2ke0K"
      },
      "outputs": [],
      "source": [
        "import requests\n",
        "import os\n",
        "import re\n",
        "import string\n",
        "import pandas as pd\n",
        "import numpy as np\n",
        "from bs4 import BeautifulSoup as bs"
      ]
    },
    {
      "cell_type": "code",
      "execution_count": 3,
      "metadata": {
        "id": "2j6xdfVAkwQ3"
      },
      "outputs": [],
      "source": [
        "request = requests.get(\"https://www.paulgraham.com/articles.html\")"
      ]
    },
    {
      "cell_type": "code",
      "execution_count": 7,
      "metadata": {
        "id": "zveN3OT8k4bN"
      },
      "outputs": [],
      "source": [
        "text_obj = bs(request.text)"
      ]
    },
    {
      "cell_type": "code",
      "execution_count": 32,
      "metadata": {
        "colab": {
          "base_uri": "https://localhost:8080/"
        },
        "id": "lADl1nLBlVwG",
        "outputId": "45d9a82d-77cf-4375-8d87-493e24d17f6c"
      },
      "outputs": [
        {
          "name": "stdout",
          "output_type": "stream",
          "text": [
            "greatwork.html,woke.html,writes.html,when.html,foundermode.html,persistence.html,reddits.html,google.html,best.html,superlinear.html,greatwork.html,getideas.html,read.html,want.html,alien.html,users.html,heresy.html,words.html,goodtaste.html,smart.html,weird.html,hwh.html,own.html,fn.html,newideas.html,nft.html,real.html,richnow.html,simply.html,donate.html,worked.html,earnest.html,ace.html,airbnbs.html,think.html,early.html,wtax.html,conformism.html,orth.html,cred.html,useful.html,noob.html,fh.html,mod.html,fp.html,kids.html,lesson.html,nov.html,genius.html,sun.html,pow.html,disc.html,pgh.html,vb.html,ineq.html,re.html,jessica.html,bias.html,talk.html,aord.html,safe.html,name.html,altair.html,ronco.html,work.html,corpdev.html,95.html,ecw.html,know.html,pinch.html,mean.html,before.html,fr.html,herd.html,convince.html,ds.html,invtrend.html,startupideas.html,hw.html,growth.html,swan.html,todo.html,speak.html,ycstart.html,property.html,ambitious.html,word.html,schlep.html,vw.html,hubs.html,patentpledge.html,airbnb.html,control.html,tablets.html,founders.html,superangels.html,seesv.html,hiresfund.html,yahoo.html,future.html,addiction.html,top.html,selfindulgence.html,organic.html,apple.html,really.html,discover.html,publishing.html,nthings.html,determination.html,kate.html,segway.html,ramenprofitable.html,makersschedule.html,revolution.html,twitter.html,foundervisa.html,5founders.html,relres.html,angelinvesting.html,convergence.html,maybe.html,hackernews.html,13sentences.html,identity.html,credentials.html,divergence.html,highres.html,artistsship.html,badeconomy.html,fundraising.html,prcmc.html,cities.html,distraction.html,lies.html,good.html,googles.html,heroes.html,disagree.html,boss.html,ycombinator.html,trolls.html,newthings.html,startuphubs.html,webstartups.html,philosophy.html,colleges.html,die.html,head.html,stuff.html,equity.html,unions.html,guidetoinvestors.html,judgement.html,microsoft.html,notnot.html,wisdom.html,foundersatwork.html,goodart.html,startupmistakes.html,mit.html,investors.html,copy.html,island.html,marginal.html,america.html,siliconvalley.html,startuplessons.html,randomness.html,softwarepatents.html,6631327.html,whyyc.html,love.html,procrastination.html,web20.html,startupfunding.html,vcsqueeze.html,ideas.html,sfp.html,inequality.html,ladder.html,opensource.html,hiring.html,submarine.html,bronze.html,mac.html,writing44.html,college.html,venturecapital.html,start.html,hs.html,usa.html,charisma.html,polls.html,laundry.html,bubble.html,essay.html,pypar.html,gh.html,gap.html,wealth.html,gba.html,say.html,ffb.html,hp.html,iflisp.html,hundred.html,nerds.html,better.html,desres.html,spam.html,icad.html,power.html,fix.html,taste.html,noop.html,diff.html,road.html,rootsoflisp.html,langdes.html,popular.html,javacover.html,avg.html,lwba.html,https://sep.turbifycdn.com/ty/cdn/paulgraham/acl1.txt?t=1736805971&,https://sep.turbifycdn.com/ty/cdn/paulgraham/acl2.txt?t=1736805971&,progbot.html,prop62.html,rss.html,"
          ]
        }
      ],
      "source": [
        "font_tags = text_obj.find_all('font')\n",
        "for ele in font_tags:\n",
        "  print(ele.a['href'], end=\",\")\n",
        "essays=[]\n",
        "for ele in font_tags:\n",
        "  link = ele.a['href']\n",
        "  if 'https' in link:\n",
        "    essay = requests.get(link)\n",
        "  else:\n",
        "    essay = requests.get(\"https://www.paulgraham.com/\"+link)\n",
        "  essays.append(bs(essay.text).text)"
      ]
    },
    {
      "cell_type": "code",
      "execution_count": null,
      "metadata": {
        "id": "GoD3Gse1rUIl"
      },
      "outputs": [],
      "source": [
        "final_text = \"<eot>\\n\\n<sot>\".join(essays)"
      ]
    },
    {
      "cell_type": "code",
      "execution_count": 36,
      "metadata": {
        "id": "ySwL4b3gwxTr"
      },
      "outputs": [],
      "source": [
        "with open(\"pgessay.txt\", \"w\") as f:\n",
        "  f.write(final_text)"
      ]
    },
    {
      "cell_type": "code",
      "execution_count": null,
      "metadata": {
        "id": "bLqg62J_w4Ql"
      },
      "outputs": [],
      "source": []
    }
  ],
  "metadata": {
    "accelerator": "GPU",
    "colab": {
      "gpuType": "T4",
      "provenance": []
    },
    "kernelspec": {
      "display_name": "Python 3",
      "name": "python3"
    },
    "language_info": {
      "name": "python"
    }
  },
  "nbformat": 4,
  "nbformat_minor": 0
}
