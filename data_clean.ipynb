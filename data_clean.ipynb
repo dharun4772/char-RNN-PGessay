{
 "cells": [
  {
   "cell_type": "code",
   "execution_count": 1,
   "metadata": {},
   "outputs": [],
   "source": [
    "import pandas as pd\n",
    "import numpy as np\n",
    "import re\n",
    "import string\n",
    "import os\n",
    "import matplotlib.pyplot as plt"
   ]
  },
  {
   "cell_type": "code",
   "execution_count": 2,
   "metadata": {},
   "outputs": [],
   "source": [
    "with open(\"pgessay.txt\", 'r') as f:\n",
    "    data = f.read()\n",
    "\n",
    "data = \"<sot>\" + data"
   ]
  },
  {
   "cell_type": "code",
   "execution_count": 3,
   "metadata": {},
   "outputs": [
    {
     "data": {
      "text/plain": [
       "'<sot>How to Do Great Work\\n\\nJuly 2023If you collected lists of techniques for doing great work in a l'"
      ]
     },
     "execution_count": 3,
     "metadata": {},
     "output_type": "execute_result"
    }
   ],
   "source": [
    "data[:100]"
   ]
  },
  {
   "cell_type": "code",
   "execution_count": 4,
   "metadata": {},
   "outputs": [],
   "source": [
    "passages = []\n",
    "for passage in data.split(\"<eot>\"):\n",
    "    passage = passage.strip()\n",
    "    passage = passage.lower()\n",
    "    passages.append(passage)\n",
    "cleaned_essay = \"<eot>\".join(passages)"
   ]
  },
  {
   "cell_type": "code",
   "execution_count": 5,
   "metadata": {},
   "outputs": [
    {
     "data": {
      "text/plain": [
       "True"
      ]
     },
     "execution_count": 5,
     "metadata": {},
     "output_type": "execute_result"
    }
   ],
   "source": [
    "\"<eot>\" in cleaned_essay"
   ]
  },
  {
   "cell_type": "code",
   "execution_count": 6,
   "metadata": {},
   "outputs": [],
   "source": [
    "passages = []\n",
    "for passage in cleaned_essay.split(\"\\n\"):\n",
    "    if passage == \"\":\n",
    "        continue\n",
    "    passage = passage.strip()\n",
    "    passages.append(passage)\n",
    "cleaned_essay = \".\".join(passages)"
   ]
  },
  {
   "cell_type": "code",
   "execution_count": 7,
   "metadata": {},
   "outputs": [
    {
     "data": {
      "text/plain": [
       "True"
      ]
     },
     "execution_count": 7,
     "metadata": {},
     "output_type": "execute_result"
    }
   ],
   "source": [
    "\"<eot>\" in cleaned_essay"
   ]
  },
  {
   "cell_type": "code",
   "execution_count": 8,
   "metadata": {},
   "outputs": [],
   "source": [
    "passages = []\n",
    "for essay in cleaned_essay.split(\"<sot>\"):\n",
    "    modified_after_sot = re.sub(\n",
    "        r\"\\b(january|february|march|april|may|june|july|august|september|october|november|december) (\\d{4})(?!\\n)\",\n",
    "        r\"\\1 \\2\\n\", \n",
    "        essay, \n",
    "        count=1, \n",
    "        flags=re.IGNORECASE\n",
    "    )\n",
    "    passages.append(modified_after_sot)\n",
    "cleaned_essay = \"<sot>\".join(passages)"
   ]
  },
  {
   "cell_type": "code",
   "execution_count": 9,
   "metadata": {},
   "outputs": [],
   "source": [
    "with open(\"cleaned_pgessay.txt\",\"w\") as f:\n",
    "    f.write(cleaned_essay)"
   ]
  },
  {
   "cell_type": "code",
   "execution_count": null,
   "metadata": {},
   "outputs": [],
   "source": []
  }
 ],
 "metadata": {
  "kernelspec": {
   "display_name": "base",
   "language": "python",
   "name": "python3"
  },
  "language_info": {
   "codemirror_mode": {
    "name": "ipython",
    "version": 3
   },
   "file_extension": ".py",
   "mimetype": "text/x-python",
   "name": "python",
   "nbconvert_exporter": "python",
   "pygments_lexer": "ipython3",
   "version": "3.11.9"
  }
 },
 "nbformat": 4,
 "nbformat_minor": 2
}
